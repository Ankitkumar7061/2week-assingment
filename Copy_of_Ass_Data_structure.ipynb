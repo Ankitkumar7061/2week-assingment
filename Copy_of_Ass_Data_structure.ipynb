{
  "nbformat": 4,
  "nbformat_minor": 0,
  "metadata": {
    "colab": {
      "provenance": []
    },
    "kernelspec": {
      "name": "python3",
      "display_name": "Python 3"
    },
    "language_info": {
      "name": "python"
    }
  },
  "cells": [
    {
      "cell_type": "code",
      "execution_count": null,
      "metadata": {
        "id": "dyxm5hLwndQa"
      },
      "outputs": [],
      "source": [
        "#1. Why might you choose a deque from the collections module to implement a queue instead of using a\n",
        "\n",
        " #regular Python list?"
      ]
    },
    {
      "cell_type": "code",
      "source": [
        "#Deque (Doubly Ended Queue) in Python is implemented using the module “collections“. Deque is preferred over a list in the cases where\n",
        "#we need quicker append and pop operations from both the ends of the container, as deque provides an O(1) time complexity for append and\n",
        "# pop operations as compared to a list that provides O(n) time complexity."
      ],
      "metadata": {
        "id": "XuTGoqnAohc5"
      },
      "execution_count": null,
      "outputs": []
    },
    {
      "cell_type": "code",
      "source": [
        "from collections import deque\n",
        "buy = deque()\n",
        "\n",
        "buy.append(\"cus1\")\n",
        "buy.append(\"cus2\")\n",
        "buy.append(\"cus3\")\n",
        "buy.append(\"cus4\")\n"
      ],
      "metadata": {
        "id": "pYeiLJKBot0G"
      },
      "execution_count": null,
      "outputs": []
    },
    {
      "cell_type": "code",
      "source": [
        "buy"
      ],
      "metadata": {
        "colab": {
          "base_uri": "https://localhost:8080/"
        },
        "id": "YATwoek0pbZ8",
        "outputId": "fe10ab7a-ce9b-462f-b4a4-b8acb2c549bd"
      },
      "execution_count": null,
      "outputs": [
        {
          "output_type": "execute_result",
          "data": {
            "text/plain": [
              "deque(['cus2', 'cus3', 'cus4'])"
            ]
          },
          "metadata": {},
          "execution_count": 15
        }
      ]
    },
    {
      "cell_type": "code",
      "source": [
        "#2.  Can you explain a real-world scenario where using a stack would be a more practical choice than a list for\n",
        "\n",
        " #data storage and retrieval\n",
        " #ans Women’s Bangles: Women wear a bangle one by one and to pull the first one they have to first pull out the last one.\n",
        "###Books and Clothes: Piled on top of each other is a great example of the stack.\n",
        "#loors in a Building: If a person is living on the top floor and wants to go outside, he/she first needs to land on the ground floor."
      ],
      "metadata": {
        "id": "k-1-wA7os-v_"
      },
      "execution_count": null,
      "outputs": []
    },
    {
      "cell_type": "code",
      "source": [
        "#3. What is the primary advantage of using sets in Python, and in what type of problem-solving scenarios are\n",
        "\n",
        " #they most useful"
      ],
      "metadata": {
        "id": "GtN46BAHvKTj"
      },
      "execution_count": null,
      "outputs": []
    },
    {
      "cell_type": "code",
      "source": [
        "#ans. Set can be used to store unique values in order to avoid duplications of elements present in the set.\n",
        "##Elements in a set are stored in a sorted fashion which makes it efficient.\n",
        "#Set are dynamic, so there is no error of overflowing of the set.\n",
        "#Searching operation takes O(logN) time complexity.\n",
        "#Sets provide fast and efficient operations for checking if an element is present in the set or not.\n",
        "#Sets can be implemented using different data structures, such as HashSets and TreeSets, each with its own advantages and use cases.\n",
        "#Sets can be used in a variety of applications, including algorithms, data analysis, and databases.\n",
        "#Sets can be used to improve performance in many algorithms by providing fast lookups.\n",
        "\n",
        "s = {1,2,3,3,4,5,6,7,8,}"
      ],
      "metadata": {
        "id": "S0UQX6yWvOdm"
      },
      "execution_count": null,
      "outputs": []
    },
    {
      "cell_type": "code",
      "source": [
        "s"
      ],
      "metadata": {
        "colab": {
          "base_uri": "https://localhost:8080/"
        },
        "id": "2PWuw_o5vl0m",
        "outputId": "e12f15b2-3f2f-40ea-b59a-215cf8d4c6be"
      },
      "execution_count": null,
      "outputs": [
        {
          "output_type": "execute_result",
          "data": {
            "text/plain": [
              "{1, 2, 3, 4, 5, 6, 7, 8}"
            ]
          },
          "metadata": {},
          "execution_count": 20
        }
      ]
    },
    {
      "cell_type": "code",
      "source": [
        "type(s)"
      ],
      "metadata": {
        "colab": {
          "base_uri": "https://localhost:8080/"
        },
        "id": "MG6obqPpvmVx",
        "outputId": "89b249eb-14ce-41b6-c0a3-34db82d85942"
      },
      "execution_count": null,
      "outputs": [
        {
          "output_type": "execute_result",
          "data": {
            "text/plain": [
              "set"
            ]
          },
          "metadata": {},
          "execution_count": 21
        }
      ]
    },
    {
      "cell_type": "code",
      "source": [
        "#4. When might you choose to use an array instead of a list for storing numerical data in Python? What\n",
        "\n",
        " #benefits do arrays offer in this context"
      ],
      "metadata": {
        "id": "sCuJk1nYvouS"
      },
      "execution_count": null,
      "outputs": []
    },
    {
      "cell_type": "code",
      "source": [
        "#ans We use arrays over lists in python as it requires less memory.\n",
        "#Arrays are faster than the list in python.\n",
        "#Arrays can directly handle arithmetic operations while lists cannot. So we use arrays over lists.\n",
        "#Arrays are preferred over lists for a longer sequence of data items."
      ],
      "metadata": {
        "id": "3QX8jUeZvuim"
      },
      "execution_count": null,
      "outputs": []
    },
    {
      "cell_type": "code",
      "source": [
        "#5. In Python, what's the primary difference between dictionaries and lists, and how does this difference\n",
        "\n",
        " #impact their use cases in programming"
      ],
      "metadata": {
        "id": "naXkS80mwAzb"
      },
      "execution_count": null,
      "outputs": []
    },
    {
      "cell_type": "code",
      "source": [
        "#ans LIST are just like arrays, declared in other languages. Lists need not be homogeneous always which makes it a most powerful tool in Python.\n",
        "#A single list may contain data types like Integers, Strings, as well as Objects.\n",
        "#Lists are mutable, and hence, even after their creation.\n",
        "#example\n",
        "vegtable_list = [\"milk\",\"onion\",\"potato\",25,35,65]"
      ],
      "metadata": {
        "id": "yEbzGkYAwDdC"
      },
      "execution_count": null,
      "outputs": []
    },
    {
      "cell_type": "code",
      "source": [
        "vegtable_list"
      ],
      "metadata": {
        "colab": {
          "base_uri": "https://localhost:8080/"
        },
        "id": "m_KcOkmMwoCp",
        "outputId": "f5b69a66-d75d-49a1-a803-bd64b202a806"
      },
      "execution_count": null,
      "outputs": [
        {
          "output_type": "execute_result",
          "data": {
            "text/plain": [
              "['milk', 'onion', 'potato', 25, 35, 65]"
            ]
          },
          "metadata": {},
          "execution_count": 26
        }
      ]
    },
    {
      "cell_type": "code",
      "source": [
        "type(vegtable_list)"
      ],
      "metadata": {
        "colab": {
          "base_uri": "https://localhost:8080/"
        },
        "id": "KiLbyn5BwqrM",
        "outputId": "d5e8d6ec-40c1-4620-d667-53a9783a6060"
      },
      "execution_count": null,
      "outputs": [
        {
          "output_type": "execute_result",
          "data": {
            "text/plain": [
              "list"
            ]
          },
          "metadata": {},
          "execution_count": 28
        }
      ]
    },
    {
      "cell_type": "code",
      "source": [
        "# DICTIOINARY Python Dictionary on the other hand is an unordered collection of data values, used to store data values like a map, unlike other\n",
        "#Data Types that hold only a single value as an element,\n",
        " #Dictionary holds a key:value pair. Key-value is provided in the dictionary to make it more optimized.\n",
        "##Each key-value pair in a Dictionary is separated by a colon (:) whereas each key is separated by a ‘comma’.\n",
        "#Example\n",
        "d = {}"
      ],
      "metadata": {
        "id": "OlsCTb34wu0U"
      },
      "execution_count": null,
      "outputs": []
    },
    {
      "cell_type": "code",
      "source": [
        "type(d)\n"
      ],
      "metadata": {
        "colab": {
          "base_uri": "https://localhost:8080/"
        },
        "id": "cxXM2J3gzRur",
        "outputId": "4c670cc7-a5f7-49d9-bd22-4748284e8803"
      },
      "execution_count": null,
      "outputs": [
        {
          "output_type": "execute_result",
          "data": {
            "text/plain": [
              "dict"
            ]
          },
          "metadata": {},
          "execution_count": 32
        }
      ]
    },
    {
      "cell_type": "code",
      "source": [
        "list_1 = {\"name\":\"ankit\",\"email\": \"ankit@\"}"
      ],
      "metadata": {
        "id": "2srO2OUEzSRr"
      },
      "execution_count": null,
      "outputs": []
    },
    {
      "cell_type": "code",
      "source": [
        "type(list_1)"
      ],
      "metadata": {
        "colab": {
          "base_uri": "https://localhost:8080/"
        },
        "id": "_zNfO1zqzvrY",
        "outputId": "93a896df-e5da-42e5-e95f-e67d30aefda9"
      },
      "execution_count": null,
      "outputs": [
        {
          "output_type": "execute_result",
          "data": {
            "text/plain": [
              "dict"
            ]
          },
          "metadata": {},
          "execution_count": 36
        }
      ]
    },
    {
      "cell_type": "code",
      "source": [],
      "metadata": {
        "id": "d8cyecLv0PE3"
      },
      "execution_count": null,
      "outputs": []
    }
  ]
}