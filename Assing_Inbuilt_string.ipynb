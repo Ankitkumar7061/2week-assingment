{
  "nbformat": 4,
  "nbformat_minor": 0,
  "metadata": {
    "colab": {
      "provenance": []
    },
    "kernelspec": {
      "name": "python3",
      "display_name": "Python 3"
    },
    "language_info": {
      "name": "python"
    }
  },
  "cells": [
    {
      "cell_type": "code",
      "execution_count": 1,
      "metadata": {
        "id": "oHNOf0c96sIA"
      },
      "outputs": [],
      "source": [
        "#1. What is the purpose of the len() function in Python, and how can it be used with strings?"
      ]
    },
    {
      "cell_type": "code",
      "source": [
        "#ans Basically we know about the postion of elements, and sequence.\n"
      ],
      "metadata": {
        "id": "WFsa1z9n648Y"
      },
      "execution_count": 8,
      "outputs": []
    },
    {
      "cell_type": "code",
      "source": [
        "mylist = \"Hello\"\n",
        "x = len(mylist)\n"
      ],
      "metadata": {
        "id": "KJgcpsr57zhZ"
      },
      "execution_count": 24,
      "outputs": []
    },
    {
      "cell_type": "code",
      "source": [
        "#2. How can you concatenate two or more strings in Python, and can you provide an example of string concatenation"
      ],
      "metadata": {
        "id": "cS1123119CqP"
      },
      "execution_count": 25,
      "outputs": []
    },
    {
      "cell_type": "code",
      "source": [
        "#ans\n",
        "a = \"pw\"\n",
        "b = \"skill\""
      ],
      "metadata": {
        "id": "S1LbcZiN-3HL"
      },
      "execution_count": 26,
      "outputs": []
    },
    {
      "cell_type": "code",
      "source": [
        "a+b"
      ],
      "metadata": {
        "colab": {
          "base_uri": "https://localhost:8080/",
          "height": 36
        },
        "id": "VCf5NfvhGLVo",
        "outputId": "e16a0186-7337-4180-c1f9-5e755651d545"
      },
      "execution_count": 27,
      "outputs": [
        {
          "output_type": "execute_result",
          "data": {
            "text/plain": [
              "'pwskill'"
            ],
            "application/vnd.google.colaboratory.intrinsic+json": {
              "type": "string"
            }
          },
          "metadata": {},
          "execution_count": 27
        }
      ]
    },
    {
      "cell_type": "code",
      "source": [
        "\"pwskill\" + \"course\""
      ],
      "metadata": {
        "colab": {
          "base_uri": "https://localhost:8080/",
          "height": 36
        },
        "id": "q2jHBiuZGRb6",
        "outputId": "c7245ca1-00ba-4cbf-f18e-af390548c3e1"
      },
      "execution_count": 29,
      "outputs": [
        {
          "output_type": "execute_result",
          "data": {
            "text/plain": [
              "'pwskillcourse'"
            ],
            "application/vnd.google.colaboratory.intrinsic+json": {
              "type": "string"
            }
          },
          "metadata": {},
          "execution_count": 29
        }
      ]
    },
    {
      "cell_type": "code",
      "source": [
        "#3. What is string slicing in Python, and how can you extract a portion of a string using this method?"
      ],
      "metadata": {
        "id": "jxwNPPwtGYlX"
      },
      "execution_count": 30,
      "outputs": []
    },
    {
      "cell_type": "code",
      "source": [
        "string_1 = \"datascience\""
      ],
      "metadata": {
        "id": "s0isaGPPGsUt"
      },
      "execution_count": 31,
      "outputs": []
    },
    {
      "cell_type": "code",
      "source": [
        "string_1[0]"
      ],
      "metadata": {
        "colab": {
          "base_uri": "https://localhost:8080/",
          "height": 36
        },
        "id": "7wtQtA32HKUU",
        "outputId": "5f2ae5ba-9e5e-45a6-bde3-ed8c4f69d575"
      },
      "execution_count": 32,
      "outputs": [
        {
          "output_type": "execute_result",
          "data": {
            "text/plain": [
              "'d'"
            ],
            "application/vnd.google.colaboratory.intrinsic+json": {
              "type": "string"
            }
          },
          "metadata": {},
          "execution_count": 32
        }
      ]
    },
    {
      "cell_type": "code",
      "source": [
        "string_1[:-1]"
      ],
      "metadata": {
        "colab": {
          "base_uri": "https://localhost:8080/",
          "height": 36
        },
        "id": "MwYsLk1VHPC5",
        "outputId": "12fde480-67a5-44ae-decb-a88b9d2acf21"
      },
      "execution_count": 34,
      "outputs": [
        {
          "output_type": "execute_result",
          "data": {
            "text/plain": [
              "'datascienc'"
            ],
            "application/vnd.google.colaboratory.intrinsic+json": {
              "type": "string"
            }
          },
          "metadata": {},
          "execution_count": 34
        }
      ]
    },
    {
      "cell_type": "code",
      "source": [
        "#4 How can you change the case of a string in Python, and can you provide examples of both making a string\n",
        "\n",
        "# all uppercase and all lowercase\n"
      ],
      "metadata": {
        "id": "ob6ij8hDHapH"
      },
      "execution_count": 35,
      "outputs": []
    },
    {
      "cell_type": "code",
      "source": [
        "site = \"pwskillcourse\""
      ],
      "metadata": {
        "id": "0AweETQjHmJ0"
      },
      "execution_count": 36,
      "outputs": []
    },
    {
      "cell_type": "code",
      "source": [
        "site.upper()"
      ],
      "metadata": {
        "colab": {
          "base_uri": "https://localhost:8080/",
          "height": 36
        },
        "id": "6a-Yyg3vHrzd",
        "outputId": "abca15d8-5341-465a-9201-4cdd8d52c192"
      },
      "execution_count": 38,
      "outputs": [
        {
          "output_type": "execute_result",
          "data": {
            "text/plain": [
              "'PWSKILLCOURSE'"
            ],
            "application/vnd.google.colaboratory.intrinsic+json": {
              "type": "string"
            }
          },
          "metadata": {},
          "execution_count": 38
        }
      ]
    },
    {
      "cell_type": "code",
      "source": [
        "site.lower()"
      ],
      "metadata": {
        "colab": {
          "base_uri": "https://localhost:8080/",
          "height": 36
        },
        "id": "KnZPXqeaHvUa",
        "outputId": "812427d3-d921-4484-81d3-cf3888d9beac"
      },
      "execution_count": 41,
      "outputs": [
        {
          "output_type": "execute_result",
          "data": {
            "text/plain": [
              "'pwskillcourse'"
            ],
            "application/vnd.google.colaboratory.intrinsic+json": {
              "type": "string"
            }
          },
          "metadata": {},
          "execution_count": 41
        }
      ]
    },
    {
      "cell_type": "code",
      "source": [
        "#5. What does the split() method do in Python, and how can you split a string using a specific delimiter."
      ],
      "metadata": {
        "id": "MR5FytxLH99_"
      },
      "execution_count": 42,
      "outputs": []
    },
    {
      "cell_type": "code",
      "source": [
        "data = \"ajay,datascience,teacher,monday\"\n"
      ],
      "metadata": {
        "id": "aIyRZncoIMr1"
      },
      "execution_count": 53,
      "outputs": []
    },
    {
      "cell_type": "code",
      "source": [
        "data"
      ],
      "metadata": {
        "colab": {
          "base_uri": "https://localhost:8080/",
          "height": 36
        },
        "id": "l6rl1IFBIpHu",
        "outputId": "d928c09f-1138-480e-f528-325a04a15174"
      },
      "execution_count": 54,
      "outputs": [
        {
          "output_type": "execute_result",
          "data": {
            "text/plain": [
              "'ajay,datascience,teacher,monday'"
            ],
            "application/vnd.google.colaboratory.intrinsic+json": {
              "type": "string"
            }
          },
          "metadata": {},
          "execution_count": 54
        }
      ]
    },
    {
      "cell_type": "code",
      "source": [
        "teacher_info = data.split(',')\n"
      ],
      "metadata": {
        "id": "PhL9D9zkJfcU"
      },
      "execution_count": 55,
      "outputs": []
    },
    {
      "cell_type": "code",
      "source": [
        "teacher_info"
      ],
      "metadata": {
        "colab": {
          "base_uri": "https://localhost:8080/"
        },
        "id": "eNTSCAxpJhyQ",
        "outputId": "d026b77a-1fee-4d57-ef7f-91e45c64a53f"
      },
      "execution_count": 56,
      "outputs": [
        {
          "output_type": "execute_result",
          "data": {
            "text/plain": [
              "['ajay', 'datascience', 'teacher', 'monday']"
            ]
          },
          "metadata": {},
          "execution_count": 56
        }
      ]
    },
    {
      "cell_type": "code",
      "source": [
        "name = teacher_info[0]\n",
        "course = teacher_info[1]\n",
        "design = teacher_info[2]\n",
        "day = teacher_info[3]"
      ],
      "metadata": {
        "id": "vLmXqBA7J_AC"
      },
      "execution_count": 57,
      "outputs": []
    },
    {
      "cell_type": "code",
      "source": [
        "name\n"
      ],
      "metadata": {
        "colab": {
          "base_uri": "https://localhost:8080/",
          "height": 36
        },
        "id": "xPPx-46HLNJ9",
        "outputId": "ef630dd9-fa7d-4014-da04-ff9a696aef67"
      },
      "execution_count": 58,
      "outputs": [
        {
          "output_type": "execute_result",
          "data": {
            "text/plain": [
              "'ajay'"
            ],
            "application/vnd.google.colaboratory.intrinsic+json": {
              "type": "string"
            }
          },
          "metadata": {},
          "execution_count": 58
        }
      ]
    },
    {
      "cell_type": "code",
      "source": [
        "course"
      ],
      "metadata": {
        "colab": {
          "base_uri": "https://localhost:8080/",
          "height": 36
        },
        "id": "S8W66JHHLPFs",
        "outputId": "e3930645-22c6-4d73-95b2-58500e9caab8"
      },
      "execution_count": 59,
      "outputs": [
        {
          "output_type": "execute_result",
          "data": {
            "text/plain": [
              "'datascience'"
            ],
            "application/vnd.google.colaboratory.intrinsic+json": {
              "type": "string"
            }
          },
          "metadata": {},
          "execution_count": 59
        }
      ]
    },
    {
      "cell_type": "code",
      "source": [
        "design"
      ],
      "metadata": {
        "colab": {
          "base_uri": "https://localhost:8080/",
          "height": 36
        },
        "id": "moQEUB39LQvs",
        "outputId": "8324b23a-c279-47a5-d3cd-1142de8aa2e3"
      },
      "execution_count": 60,
      "outputs": [
        {
          "output_type": "execute_result",
          "data": {
            "text/plain": [
              "'teacher'"
            ],
            "application/vnd.google.colaboratory.intrinsic+json": {
              "type": "string"
            }
          },
          "metadata": {},
          "execution_count": 60
        }
      ]
    },
    {
      "cell_type": "code",
      "source": [
        "day"
      ],
      "metadata": {
        "colab": {
          "base_uri": "https://localhost:8080/",
          "height": 36
        },
        "id": "XmPMcUGCLSJ_",
        "outputId": "51888ba0-e274-4b16-a71c-95b49318a27b"
      },
      "execution_count": 61,
      "outputs": [
        {
          "output_type": "execute_result",
          "data": {
            "text/plain": [
              "'monday'"
            ],
            "application/vnd.google.colaboratory.intrinsic+json": {
              "type": "string"
            }
          },
          "metadata": {},
          "execution_count": 61
        }
      ]
    },
    {
      "cell_type": "code",
      "source": [],
      "metadata": {
        "id": "PJNA23buLTdD"
      },
      "execution_count": null,
      "outputs": []
    }
  ]
}